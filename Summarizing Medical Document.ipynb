{
 "cells": [
  {
   "cell_type": "markdown",
   "id": "5076c2ce",
   "metadata": {
    "papermill": {
     "duration": 0.012339,
     "end_time": "2021-09-29T17:35:55.882516",
     "exception": false,
     "start_time": "2021-09-29T17:35:55.870177",
     "status": "completed"
    },
    "tags": []
   },
   "source": [
    "# Summarizing Medical Documents using spacy"
   ]
  },
  {
   "cell_type": "markdown",
   "id": "9f3d0be8",
   "metadata": {
    "execution": {
     "iopub.execute_input": "2021-09-28T16:29:22.928553Z",
     "iopub.status.busy": "2021-09-28T16:29:22.928259Z",
     "iopub.status.idle": "2021-09-28T16:29:22.93459Z",
     "shell.execute_reply": "2021-09-28T16:29:22.933402Z",
     "shell.execute_reply.started": "2021-09-28T16:29:22.928523Z"
    },
    "papermill": {
     "duration": 0.0106,
     "end_time": "2021-09-29T17:35:55.906382",
     "exception": false,
     "start_time": "2021-09-29T17:35:55.895782",
     "status": "completed"
    },
    "tags": []
   },
   "source": [
    "<img src= \"https://images.pexels.com/photos/6801648/pexels-photo-6801648.jpeg?auto=compress&cs=tinysrgb&dpr=2&h=650&w=940\" alt =\"Document\" style='width: 1050px;'>"
   ]
  },
  {
   "cell_type": "markdown",
   "id": "36ee4f33",
   "metadata": {
    "execution": {
     "iopub.execute_input": "2021-09-28T16:30:41.031467Z",
     "iopub.status.busy": "2021-09-28T16:30:41.031201Z",
     "iopub.status.idle": "2021-09-28T16:30:41.035696Z",
     "shell.execute_reply": "2021-09-28T16:30:41.03471Z",
     "shell.execute_reply.started": "2021-09-28T16:30:41.031438Z"
    },
    "papermill": {
     "duration": 0.010517,
     "end_time": "2021-09-29T17:35:55.927793",
     "exception": false,
     "start_time": "2021-09-29T17:35:55.917276",
     "status": "completed"
    },
    "tags": []
   },
   "source": [
    "# What is Document Summarization?"
   ]
  },
  {
   "cell_type": "markdown",
   "id": "97fa0dd5",
   "metadata": {
    "execution": {
     "iopub.execute_input": "2021-09-28T16:21:49.961164Z",
     "iopub.status.busy": "2021-09-28T16:21:49.960595Z",
     "iopub.status.idle": "2021-09-28T16:21:49.966934Z",
     "shell.execute_reply": "2021-09-28T16:21:49.965864Z",
     "shell.execute_reply.started": "2021-09-28T16:21:49.961128Z"
    },
    "papermill": {
     "duration": 0.010484,
     "end_time": "2021-09-29T17:35:55.948969",
     "exception": false,
     "start_time": "2021-09-29T17:35:55.938485",
     "status": "completed"
    },
    "tags": []
   },
   "source": [
    "Text Summarization is a **Natural Language Processing** (NLP) task in which we try to create a summary starting from a textual input like books, articles, news.\n",
    "\n",
    "When the source is a document (in our case a clinical document 📝 and like discharge letters) it is calles document summarization."
   ]
  },
  {
   "cell_type": "markdown",
   "id": "8f785374",
   "metadata": {
    "papermill": {
     "duration": 0.010567,
     "end_time": "2021-09-29T17:35:55.970206",
     "exception": false,
     "start_time": "2021-09-29T17:35:55.959639",
     "status": "completed"
    },
    "tags": []
   },
   "source": [
    "Based on the output type, document summarization can be:\n",
    "\n",
    "* Extractive: the summary is extracted from the input text. The output is usually the concatenation of the most important sentences of the original text.\n",
    "\n",
    "* Abstractive: the summary is generated. This means that we use the original text to learn internal representations and then we use such representations to generate new text. The output is original, not a combination/concatenation of the input sentences.\n",
    "\n",
    "* Mixed: produce an abstractive summary after identifying an extractive intermediate state or they can choose which approach to use (eg: pointer models) based on the particulars of the text.\n"
   ]
  },
  {
   "cell_type": "markdown",
   "id": "d19e4be8",
   "metadata": {
    "execution": {
     "iopub.execute_input": "2021-09-28T16:34:24.201247Z",
     "iopub.status.busy": "2021-09-28T16:34:24.20099Z",
     "iopub.status.idle": "2021-09-28T16:34:24.208761Z",
     "shell.execute_reply": "2021-09-28T16:34:24.207552Z",
     "shell.execute_reply.started": "2021-09-28T16:34:24.201213Z"
    },
    "papermill": {
     "duration": 0.010482,
     "end_time": "2021-09-29T17:35:55.991392",
     "exception": false,
     "start_time": "2021-09-29T17:35:55.980910",
     "status": "completed"
    },
    "tags": []
   },
   "source": [
    "<img src= \"https://miro.medium.com/max/875/1*SM41ES3n-q71Xn8zCIdRMw.png\" alt =\"Document\" style='width: 1000px;'>"
   ]
  },
  {
   "cell_type": "markdown",
   "id": "e93564f9",
   "metadata": {
    "papermill": {
     "duration": 0.010483,
     "end_time": "2021-09-29T17:35:56.012802",
     "exception": false,
     "start_time": "2021-09-29T17:35:56.002319",
     "status": "completed"
    },
    "tags": []
   },
   "source": [
    "# Summarization Methods and Implementation"
   ]
  },
  {
   "cell_type": "markdown",
   "id": "0f83b89b",
   "metadata": {
    "papermill": {
     "duration": 0.010522,
     "end_time": "2021-09-29T17:35:56.035252",
     "exception": false,
     "start_time": "2021-09-29T17:35:56.024730",
     "status": "completed"
    },
    "tags": []
   },
   "source": [
    "We have plenty of summarization algorithms today. Assessing which one is the best is a chance hit, though. First of all, there is no clear consensus on which metrics to utilize to evaluate these systems. Moreover, the best summarization technique is highly dependent on the domain and the type of text you are intrigued with summarizing."
   ]
  },
  {
   "cell_type": "markdown",
   "id": "ccd7be42",
   "metadata": {
    "papermill": {
     "duration": 0.010679,
     "end_time": "2021-09-29T17:35:56.056615",
     "exception": false,
     "start_time": "2021-09-29T17:35:56.045936",
     "status": "completed"
    },
    "tags": []
   },
   "source": [
    "## Frequency-Based Sentence Scoring"
   ]
  },
  {
   "cell_type": "markdown",
   "id": "cce3dec1",
   "metadata": {
    "papermill": {
     "duration": 0.011054,
     "end_time": "2021-09-29T17:35:56.078436",
     "exception": false,
     "start_time": "2021-09-29T17:35:56.067382",
     "status": "completed"
    },
    "tags": []
   },
   "source": [
    "> This approach is the most facile and most straightforward one. Here we utilize information theory to assign each sentence of the input with a score that is predicated on relative frequencies. A high value for a sentence betokens that its content is liable to be informative."
   ]
  },
  {
   "cell_type": "markdown",
   "id": "e0af1565",
   "metadata": {
    "papermill": {
     "duration": 0.010557,
     "end_time": "2021-09-29T17:35:56.099724",
     "exception": false,
     "start_time": "2021-09-29T17:35:56.089167",
     "status": "completed"
    },
    "tags": []
   },
   "source": [
    "WE will be using **spacy**, a fantastic library designed to implement standard NLP pipelines expeditiously and smoothly, we can implement this with a few lines of code."
   ]
  },
  {
   "cell_type": "code",
   "execution_count": 1,
   "id": "8ed58356",
   "metadata": {
    "_cell_guid": "b1076dfc-b9ad-4769-8c92-a6c4dae69d19",
    "_uuid": "8f2839f25d086af736a60e9eeb907d3b93b6e0e5",
    "execution": {
     "iopub.execute_input": "2021-09-29T17:35:56.203017Z",
     "iopub.status.busy": "2021-09-29T17:35:56.202248Z",
     "iopub.status.idle": "2021-09-29T17:35:58.760592Z",
     "shell.execute_reply": "2021-09-29T17:35:58.760015Z",
     "shell.execute_reply.started": "2021-09-29T17:35:36.476116Z"
    },
    "papermill": {
     "duration": 2.650364,
     "end_time": "2021-09-29T17:35:58.760744",
     "exception": false,
     "start_time": "2021-09-29T17:35:56.110380",
     "status": "completed"
    },
    "tags": []
   },
   "outputs": [],
   "source": [
    "import spacy\n",
    "import textwrap\n",
    "from spacy.lang.en.stop_words import STOP_WORDS\n",
    "from string import punctuation\n",
    "from heapq import nlargest\n",
    "punctuation += '\\n' \n",
    "stopwords = list(STOP_WORDS)\n",
    "\n",
    "reduction_rate = 0.1  #Shows how small the output summary should be compared with the input\n"
   ]
  },
  {
   "cell_type": "code",
   "execution_count": 2,
   "id": "a2468d87",
   "metadata": {
    "execution": {
     "iopub.execute_input": "2021-09-29T17:35:58.789118Z",
     "iopub.status.busy": "2021-09-29T17:35:58.788323Z",
     "iopub.status.idle": "2021-09-29T17:35:58.790199Z",
     "shell.execute_reply": "2021-09-29T17:35:58.790629Z",
     "shell.execute_reply.started": "2021-09-29T17:35:36.488053Z"
    },
    "papermill": {
     "duration": 0.018721,
     "end_time": "2021-09-29T17:35:58.790744",
     "exception": false,
     "start_time": "2021-09-29T17:35:58.772023",
     "status": "completed"
    },
    "tags": []
   },
   "outputs": [],
   "source": [
    "text = \"\"\"I saw ABC back in Neuro-Oncology Clinic today. He comes in for an urgent visit because of increasing questions about what to do next for his anaplastic astrocytoma.\n",
    "Within the last several days, he has seen you in clinic and once again discussed whether or not to undergo radiation for his left temporal lesion. The patient has clearly been extremely ambivalent about this therapy for reasons that are not immediately apparent. It is clear that his MRI is progressing and that it seems unlikely at this time that anything other than radiation would be particularly effective. Despite repeatedly emphasizing this; however, the patient still is worried about potential long-term side effects from treatment that frankly seem unwarranted at this particular time.\n",
    "After seeing you in clinic, he and his friend again wanted to discuss possible changes in the chemotherapy regimen. They came in with a list of eight possible agents that they would like to be administered within the next two weeks. They then wanted another MRI to be performed and they were hoping that with the use of this type of approach, they might be able to induce another remission from which he can once again be spared radiation.\n",
    "From my view, I noticed a man whose language has deteriorated in the week since I last saw him. This is very worrisome. Today, for the first time, I felt that there was a definite right facial droop as well. Therefore, there is no doubt that he is becoming symptomatic from his growing tumor. It suggests that he is approaching the end of his compliance curve and that the things may rapidly deteriorate in the near future.\n",
    "Emphasizing this once again, in addition, to recommending steroids I once again tried to convince him to undergo radiation. Despite an hour, this again amazingly was not possible. It is not that he does not want treatment, however. Because I told him that I did not feel it was ethical to just put him on the radical regimen that him and his friend devised, we compromised and elected to go back to Temodar in a low dose daily type regimen. We would plan on giving 75 mg/sq m everyday for 21 days out of 28 days. In addition, we will stop thalidomide 100 mg/day. If he tolerates this for one week, we then agree that we would institute another one of the medications that he listed for us. At this stage, we are thinking of using Accutane at that point.\n",
    "While I am very uncomfortable with this type of approach, I think as long as he is going to be monitored closely that we may be able to get away with this for at least a reasonable interval. In the spirit of compromise, he again consented to be evaluated by radiation and this time, seemed more resigned to the fact that it was going to happen sooner than later. I will look at this as a positive sign because I think radiation is the one therapy from which he can get a reasonable response in the long term.\n",
    "I will keep you apprised of followups. If you have any questions or if I could be of any further assistance, feel free to contact me.\"\"\""
   ]
  },
  {
   "cell_type": "markdown",
   "id": "2aab93a4",
   "metadata": {
    "papermill": {
     "duration": 0.010606,
     "end_time": "2021-09-29T17:35:58.811983",
     "exception": false,
     "start_time": "2021-09-29T17:35:58.801377",
     "status": "completed"
    },
    "tags": []
   },
   "source": [
    "Here we utilize the SpaCy NLP pipeline for English, which is very handy because it returns a Doc object that contains the already tokenized and preprocessed text, split into words and sentences."
   ]
  },
  {
   "cell_type": "code",
   "execution_count": 3,
   "id": "18dcf4e5",
   "metadata": {
    "execution": {
     "iopub.execute_input": "2021-09-29T17:35:58.840038Z",
     "iopub.status.busy": "2021-09-29T17:35:58.839323Z",
     "iopub.status.idle": "2021-09-29T17:36:00.119861Z",
     "shell.execute_reply": "2021-09-29T17:36:00.120557Z",
     "shell.execute_reply.started": "2021-09-29T17:35:36.499936Z"
    },
    "papermill": {
     "duration": 1.297987,
     "end_time": "2021-09-29T17:36:00.120775",
     "exception": false,
     "start_time": "2021-09-29T17:35:58.822788",
     "status": "completed"
    },
    "tags": []
   },
   "outputs": [
    {
     "name": "stdout",
     "output_type": "stream",
     "text": [
      "6\n",
      "{'saw': 0.3333333333333333, 'ABC': 0.16666666666666666, 'Neuro': 0.16666666666666666, 'Oncology': 0.16666666666666666, 'Clinic': 0.16666666666666666, 'today': 0.16666666666666666, 'comes': 0.16666666666666666, 'urgent': 0.16666666666666666, 'visit': 0.16666666666666666, 'increasing': 0.16666666666666666, 'questions': 0.3333333333333333, 'anaplastic': 0.16666666666666666, 'astrocytoma': 0.16666666666666666, 'days': 0.5, 'seen': 0.16666666666666666, 'clinic': 0.3333333333333333, 'discussed': 0.16666666666666666, 'undergo': 0.3333333333333333, 'radiation': 1.0, 'left': 0.16666666666666666, 'temporal': 0.16666666666666666, 'lesion': 0.16666666666666666, 'patient': 0.3333333333333333, 'clearly': 0.16666666666666666, 'extremely': 0.16666666666666666, 'ambivalent': 0.16666666666666666, 'therapy': 0.3333333333333333, 'reasons': 0.16666666666666666, 'immediately': 0.16666666666666666, 'apparent': 0.16666666666666666, 'clear': 0.16666666666666666, 'MRI': 0.3333333333333333, 'progressing': 0.16666666666666666, 'unlikely': 0.16666666666666666, 'time': 0.6666666666666666, 'particularly': 0.16666666666666666, 'effective': 0.16666666666666666, 'Despite': 0.3333333333333333, 'repeatedly': 0.16666666666666666, 'emphasizing': 0.16666666666666666, 'worried': 0.16666666666666666, 'potential': 0.16666666666666666, 'long': 0.5, 'term': 0.3333333333333333, 'effects': 0.16666666666666666, 'treatment': 0.3333333333333333, 'frankly': 0.16666666666666666, 'unwarranted': 0.16666666666666666, 'particular': 0.16666666666666666, 'seeing': 0.16666666666666666, 'friend': 0.3333333333333333, 'wanted': 0.3333333333333333, 'discuss': 0.16666666666666666, 'possible': 0.5, 'changes': 0.16666666666666666, 'chemotherapy': 0.16666666666666666, 'regimen': 0.5, 'came': 0.16666666666666666, 'list': 0.16666666666666666, 'agents': 0.16666666666666666, 'like': 0.16666666666666666, 'administered': 0.16666666666666666, 'weeks': 0.16666666666666666, 'performed': 0.16666666666666666, 'hoping': 0.16666666666666666, 'use': 0.16666666666666666, 'type': 0.5, 'approach': 0.3333333333333333, 'able': 0.3333333333333333, 'induce': 0.16666666666666666, 'remission': 0.16666666666666666, 'spared': 0.16666666666666666, 'view': 0.16666666666666666, 'noticed': 0.16666666666666666, 'man': 0.16666666666666666, 'language': 0.16666666666666666, 'deteriorated': 0.16666666666666666, 'week': 0.3333333333333333, 'worrisome': 0.16666666666666666, 'Today': 0.16666666666666666, 'felt': 0.16666666666666666, 'definite': 0.16666666666666666, 'right': 0.16666666666666666, 'facial': 0.16666666666666666, 'droop': 0.16666666666666666, 'doubt': 0.16666666666666666, 'symptomatic': 0.16666666666666666, 'growing': 0.16666666666666666, 'tumor': 0.16666666666666666, 'suggests': 0.16666666666666666, 'approaching': 0.16666666666666666, 'end': 0.16666666666666666, 'compliance': 0.16666666666666666, 'curve': 0.16666666666666666, 'things': 0.16666666666666666, 'rapidly': 0.16666666666666666, 'deteriorate': 0.16666666666666666, 'near': 0.16666666666666666, 'future': 0.16666666666666666, 'Emphasizing': 0.16666666666666666, 'addition': 0.3333333333333333, 'recommending': 0.16666666666666666, 'steroids': 0.16666666666666666, 'tried': 0.16666666666666666, 'convince': 0.16666666666666666, 'hour': 0.16666666666666666, 'amazingly': 0.16666666666666666, 'want': 0.16666666666666666, 'told': 0.16666666666666666, 'feel': 0.3333333333333333, 'ethical': 0.16666666666666666, 'radical': 0.16666666666666666, 'devised': 0.16666666666666666, 'compromised': 0.16666666666666666, 'elected': 0.16666666666666666, 'Temodar': 0.16666666666666666, 'low': 0.16666666666666666, 'dose': 0.16666666666666666, 'daily': 0.16666666666666666, 'plan': 0.16666666666666666, 'giving': 0.16666666666666666, '75': 0.16666666666666666, 'mg': 0.3333333333333333, 'sq': 0.16666666666666666, 'm': 0.16666666666666666, 'everyday': 0.16666666666666666, '21': 0.16666666666666666, '28': 0.16666666666666666, 'stop': 0.16666666666666666, 'thalidomide': 0.16666666666666666, '100': 0.16666666666666666, 'day': 0.16666666666666666, 'tolerates': 0.16666666666666666, 'agree': 0.16666666666666666, 'institute': 0.16666666666666666, 'medications': 0.16666666666666666, 'listed': 0.16666666666666666, 'stage': 0.16666666666666666, 'thinking': 0.16666666666666666, 'Accutane': 0.16666666666666666, 'point': 0.16666666666666666, 'uncomfortable': 0.16666666666666666, 'think': 0.3333333333333333, 'going': 0.3333333333333333, 'monitored': 0.16666666666666666, 'closely': 0.16666666666666666, 'away': 0.16666666666666666, 'reasonable': 0.3333333333333333, 'interval': 0.16666666666666666, 'spirit': 0.16666666666666666, 'compromise': 0.16666666666666666, 'consented': 0.16666666666666666, 'evaluated': 0.16666666666666666, 'resigned': 0.16666666666666666, 'fact': 0.16666666666666666, 'happen': 0.16666666666666666, 'sooner': 0.16666666666666666, 'later': 0.16666666666666666, 'look': 0.16666666666666666, 'positive': 0.16666666666666666, 'sign': 0.16666666666666666, 'response': 0.16666666666666666, 'apprised': 0.16666666666666666, 'followups': 0.16666666666666666, 'assistance': 0.16666666666666666, 'free': 0.16666666666666666, 'contact': 0.16666666666666666}\n"
     ]
    }
   ],
   "source": [
    "nlp_pl = spacy.load('en_core_web_sm')     #process original text according with the Spacy nlp pipeline for english\n",
    "document = nlp_pl(text)                   #doc object\n",
    "\n",
    "tokens = [token.text for token in document] #tokenized text\n",
    "\n",
    "word_frequencies = {}\n",
    "for word in document:\n",
    "    if word.text.lower() not in stopwords:\n",
    "        if word.text.lower() not in punctuation:\n",
    "            if word.text not in word_frequencies.keys():\n",
    "                word_frequencies[word.text] = 1\n",
    "            else:\n",
    "                word_frequencies[word.text] += 1\n",
    "\n",
    "max_frequency = max(word_frequencies.values())\n",
    "print(max_frequency)\n",
    "\n",
    "for word in word_frequencies.keys():\n",
    "    word_frequencies[word] = word_frequencies[word]/max_frequency\n",
    "\n",
    "print(word_frequencies)"
   ]
  },
  {
   "cell_type": "markdown",
   "id": "d9825814",
   "metadata": {
    "papermill": {
     "duration": 0.027789,
     "end_time": "2021-09-29T17:36:00.170514",
     "exception": false,
     "start_time": "2021-09-29T17:36:00.142725",
     "status": "completed"
    },
    "tags": []
   },
   "source": [
    "I already mentioned how extractive summarization is essentially based on **sentence scoring**. Therefore, we need to find a way to give an **importance score** to each sentence, so that we can include in the summary the most important ones. To give each sentence a score, we **sum the relative word frequencies** in each sentence and then we create a dictionary that pairs the sentences and their scores."
   ]
  },
  {
   "cell_type": "code",
   "execution_count": 4,
   "id": "f120f36b",
   "metadata": {
    "execution": {
     "iopub.execute_input": "2021-09-29T17:36:00.217807Z",
     "iopub.status.busy": "2021-09-29T17:36:00.215647Z",
     "iopub.status.idle": "2021-09-29T17:36:00.224162Z",
     "shell.execute_reply": "2021-09-29T17:36:00.225473Z",
     "shell.execute_reply.started": "2021-09-29T17:35:37.476932Z"
    },
    "papermill": {
     "duration": 0.036492,
     "end_time": "2021-09-29T17:36:00.225718",
     "exception": false,
     "start_time": "2021-09-29T17:36:00.189226",
     "status": "completed"
    },
    "tags": []
   },
   "outputs": [],
   "source": [
    "sentence_tokens = [sent for sent in document.sents]\n",
    "\n",
    "def get_sentence_scores(sentence_tok, len_norm=True):\n",
    "  sentence_scores = {}\n",
    "  for sent in sentence_tok:\n",
    "      word_count = 0\n",
    "      for word in sent:\n",
    "          if word.text.lower() in word_frequencies.keys():\n",
    "              word_count += 1\n",
    "              if sent not in sentence_scores.keys():\n",
    "                  sentence_scores[sent] = word_frequencies[word.text.lower()]\n",
    "              else:\n",
    "                  sentence_scores[sent] += word_frequencies[word.text.lower()]\n",
    "      if len_norm:\n",
    "        sentence_scores[sent] = sentence_scores[sent]/word_count\n",
    "  return sentence_scores\n",
    "                \n",
    "sentence_scores = get_sentence_scores(sentence_tokens,len_norm=False)        #sentence scoring without lenght normalization\n",
    "sentence_scores_rel = get_sentence_scores(sentence_tokens,len_norm=True)     #sentence scoring with length normalization"
   ]
  },
  {
   "cell_type": "markdown",
   "id": "68b61eb2",
   "metadata": {
    "papermill": {
     "duration": 0.021562,
     "end_time": "2021-09-29T17:36:00.271220",
     "exception": false,
     "start_time": "2021-09-29T17:36:00.249658",
     "status": "completed"
    },
    "tags": []
   },
   "source": [
    "The final summary is made with the nlargest function from heapq module, which efficiently returns the **k sentences with the highest score**."
   ]
  },
  {
   "cell_type": "code",
   "execution_count": 5,
   "id": "2850bce4",
   "metadata": {
    "execution": {
     "iopub.execute_input": "2021-09-29T17:36:00.319380Z",
     "iopub.status.busy": "2021-09-29T17:36:00.318629Z",
     "iopub.status.idle": "2021-09-29T17:36:00.325844Z",
     "shell.execute_reply": "2021-09-29T17:36:00.326466Z",
     "shell.execute_reply.started": "2021-09-29T17:35:37.493037Z"
    },
    "papermill": {
     "duration": 0.034274,
     "end_time": "2021-09-29T17:36:00.326636",
     "exception": false,
     "start_time": "2021-09-29T17:36:00.292362",
     "status": "completed"
    },
    "tags": []
   },
   "outputs": [
    {
     "name": "stdout",
     "output_type": "stream",
     "text": [
      "Lenghty description: Because I told him that I did not feel it was ethical to just put him on the radical regimen that him and his friend devised, we compromised and elected to go back to Temodar in a low dose daily type regimen. I will look at this as a positive sign because I think radiation is the one therapy from which he can get a reasonable response in the long term.\n",
      "\n",
      "Concise: It is clear that his MRI is progressing and that it seems unlikely at this time that anything other than radiation would be particularly effective. I will look at this as a positive sign because I think radiation is the one therapy from which he can get a reasonable response in the long term.\n",
      "\n"
     ]
    }
   ],
   "source": [
    "def get_summary(sentence_sc, rate):\n",
    "  summary_length = int(len(sentence_sc)*rate)\n",
    "  summary = nlargest(summary_length, sentence_sc, key = sentence_sc.get)\n",
    "  final_summary = [word.text for word in summary]\n",
    "  summary = ' '.join(final_summary)\n",
    "  return summary\n",
    "\n",
    "print(\"Lenghty description: \"+ get_summary(sentence_scores, reduction_rate))\n",
    "print(\"Concise: \"+ get_summary(sentence_scores_rel, reduction_rate))"
   ]
  },
  {
   "cell_type": "markdown",
   "id": "12979616",
   "metadata": {
    "papermill": {
     "duration": 0.018508,
     "end_time": "2021-09-29T17:36:00.364129",
     "exception": false,
     "start_time": "2021-09-29T17:36:00.345621",
     "status": "completed"
    },
    "tags": []
   },
   "source": [
    "As we expected, the **first output shows verbose and content-heavy sentences**, while the **second one is much more concise**. The second summary withal inclines to focus more on what is going well with the patient, omitting consequential information about what the doctor is worried about."
   ]
  },
  {
   "cell_type": "code",
   "execution_count": null,
   "id": "38bd1200",
   "metadata": {
    "papermill": {
     "duration": 0.018491,
     "end_time": "2021-09-29T17:36:00.401335",
     "exception": false,
     "start_time": "2021-09-29T17:36:00.382844",
     "status": "completed"
    },
    "tags": []
   },
   "outputs": [],
   "source": []
  }
 ],
 "metadata": {
  "kernelspec": {
   "display_name": "Python 3",
   "language": "python",
   "name": "python3"
  },
  "language_info": {
   "codemirror_mode": {
    "name": "ipython",
    "version": 3
   },
   "file_extension": ".py",
   "mimetype": "text/x-python",
   "name": "python",
   "nbconvert_exporter": "python",
   "pygments_lexer": "ipython3",
   "version": "3.7.10"
  },
  "papermill": {
   "default_parameters": {},
   "duration": 12.653857,
   "end_time": "2021-09-29T17:36:02.079733",
   "environment_variables": {},
   "exception": null,
   "input_path": "__notebook__.ipynb",
   "output_path": "__notebook__.ipynb",
   "parameters": {},
   "start_time": "2021-09-29T17:35:49.425876",
   "version": "2.3.3"
  }
 },
 "nbformat": 4,
 "nbformat_minor": 5
}
